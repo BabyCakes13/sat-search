{
 "cells": [
  {
   "cell_type": "markdown",
   "metadata": {},
   "source": [
    "# sat-search\n",
    "\n",
    "This notebook is a tutorial on how to use sat-search to search STAC APIs, save the results, and download assets.\n",
    "\n",
    "Sat-search is built using [sat-stac](https://github.com/sat-utils/sat-stac) which provides the core Python classes used to represent STAC catalogs: `Collection`, `Item`, and `Items`. It is recommended to review the [tutorial on STAC Classes](https://github.com/sat-utils/sat-stac/blob/master/tutorial-2.ipynb) for more information on how to use these objects returned from searching.\n",
    "\n",
    "Only the `search` module is in sat-search is used as a library, and it contains a single class, `Search`. The `parser` module is used for creating a CLI parser, and `main` contains the main function used in the CLI.\n",
    "\n",
    "**API endpoint**: Sat-search uses an endpoint defined by the SATUTILS_API_URL environment variable. This defaults to https://sat-api.developmentseed.org/ but can point to any STAC compatible endpoint."
   ]
  },
  {
   "cell_type": "markdown",
   "metadata": {},
   "source": [
    "## Initializing a Search object\n",
    "\n",
    "The first step in performing a search is to create a Search object with all the desired query parameters. Query parameters need to follow the querying as provided in the [STAC specification](https://github.com/radiantearth/stac-spec), although an abbreviated form is also supported (see below).\n",
    "\n",
    "Another place to look at the STAC query format is in the [sat-api docs](http://sat-utils.github.io/sat-api/), specifically see the section on [full-features querying](http://sat-utils.github.io/sat-api/#search-stac-items-by-full-featured-filtering-) which is what sat-search uses to POST queries to an API. Any field that can be provided in the [searchBody](http://sat-utils.github.io/sat-api/#tocssearchbody) can be provided as a keyword parameter when creating the search. These fields include:\n",
    "\n",
    "- bbox: bounding box of the form [minlon, minlat, maxlon, maxlat]\n",
    "- intersects: A GeoJSON geometry\n",
    "- time: A single date-time, a period string, or a range (seperated by /)\n",
    "- sort: A dictionary of fields to sort along with ascending/descending\n",
    "- query: Dictionary of properties to query on, supports eq, lt, gt, lte, gte\n",
    "\n",
    "Examples of queries are in the sat-api docs, but an example JSON query that would be POSTed might be:\n",
    "\n",
    "```\n",
    "{\n",
    "  \"bbox\": [\n",
    "    -110,\n",
    "    39.5,\n",
    "    -105,\n",
    "    40.5\n",
    "  ],\n",
    "  \"time\": \"2018-02-12T00:00:00Z/2018-03-18T12:31:12Z\",\n",
    "  \"query\": {\n",
    "    \"eo:cloud_cover\": {\n",
    "      \"lt\": 10\n",
    "    }\n",
    "  },\n",
    "  \"sort\": [\n",
    "    {\n",
    "      \"field\": \"eo:cloud_cover\",\n",
    "      \"direction\": \"desc\"\n",
    "    }\n",
    "  ]\n",
    "}\n",
    "```\n",
    "\n",
    "### Simple queries\n",
    "\n",
    "In sat-search, each of the fields in the query is simply provided as a keyword argument"
   ]
  },
  {
   "cell_type": "code",
   "execution_count": 2,
   "metadata": {},
   "outputs": [
    {
     "name": "stdout",
     "output_type": "stream",
     "text": [
      "bbox search: 6626 items\n",
      "time search: 254719 items\n",
      "cloud_cover search: 2241330 items\n"
     ]
    }
   ],
   "source": [
    "from satsearch import Search\n",
    "\n",
    "search = Search(bbox=[-110, 39.5, -105, 40.5])\n",
    "print('bbox search: %s items' % search.found())\n",
    "\n",
    "search = Search(time='2018-02-12T00:00:00Z/2018-03-18T12:31:12Z')\n",
    "print('time search: %s items' % search.found())\n",
    "\n",
    "search = Search(query={'eo:cloud_cover': {'lt': 10}})\n",
    "print('cloud_cover search: %s items' % search.found())"
   ]
  },
  {
   "cell_type": "markdown",
   "metadata": {},
   "source": [
    "### Complex query\n",
    "\n",
    "Now we combine all these filters and add in a sort filter to order the results (which will be shown further below)."
   ]
  },
  {
   "cell_type": "code",
   "execution_count": 3,
   "metadata": {},
   "outputs": [
    {
     "name": "stdout",
     "output_type": "stream",
     "text": [
      "39 items\n"
     ]
    }
   ],
   "source": [
    "search = Search(bbox=[-110, 39.5, -105, 40.5],\n",
    "               time='2018-02-12T00:00:00Z/2018-03-18T12:31:12Z',\n",
    "               query={'eo:cloud_cover': {'lt': 10}})\n",
    "print('%s items' % search.found())"
   ]
  },
  {
   "cell_type": "markdown",
   "metadata": {},
   "source": [
    "### Intersects query\n",
    "\n",
    "The intersects query works the same way, except a geometry is provided."
   ]
  },
  {
   "cell_type": "code",
   "execution_count": 4,
   "metadata": {},
   "outputs": [
    {
     "name": "stdout",
     "output_type": "stream",
     "text": [
      "intersects search: 2657 items\n"
     ]
    }
   ],
   "source": [
    "geom = {\n",
    "    \"type\": \"Polygon\",\n",
    "    \"coordinates\": [\n",
    "      [\n",
    "        [\n",
    "          -66.3958740234375,\n",
    "          43.305193797650546\n",
    "        ],\n",
    "        [\n",
    "          -64.390869140625,\n",
    "          43.305193797650546\n",
    "        ],\n",
    "        [\n",
    "          -64.390869140625,\n",
    "          44.22945656830167\n",
    "        ],\n",
    "        [\n",
    "          -66.3958740234375,\n",
    "          44.22945656830167\n",
    "        ],\n",
    "        [\n",
    "          -66.3958740234375,\n",
    "          43.305193797650546\n",
    "        ]\n",
    "      ]\n",
    "    ]\n",
    "}\n",
    "\n",
    "search = Search(intersects=geom)\n",
    "print('intersects search: %s items' % search.found())"
   ]
  },
  {
   "cell_type": "markdown",
   "metadata": {},
   "source": [
    "## Alternate search syntax\n",
    "\n",
    "This all works fine, except the syntax for creating queries is a bit verbose, so sat-search provides a factory function (Search.search) that uses an alternate syntax that is translated into proper STAC queries. This is the query syntax used by the sat-search CLI.\n",
    "\n",
    "The keywords accepted by the Search.search function are slightly different:\n",
    "\n",
    "- bbox (same)\n",
    "- intersects (same)\n",
    "- time (same)\n",
    "- datetime: this is an alias to 'time'\n",
    "- collection: this can be provided as a property, but this is a shortcut since individual collections are frequently searched on their own.\n",
    "- property: instead of `query`, and uses alternate syntax\n",
    "- sort: uses alternate syntax\n",
    "\n",
    "The alternate syntax for `query` and `sort` uses simple strings and equality symbols.\n",
    "\n",
    "A typical query is shown below for eo:cloud_cover and collection, along with the alternate versions that use the `Search::search()` factory function."
   ]
  },
  {
   "cell_type": "code",
   "execution_count": 5,
   "metadata": {},
   "outputs": [
    {
     "name": "stdout",
     "output_type": "stream",
     "text": [
      "679597 items found\n",
      "679597 items found\n",
      "679597 items found\n"
     ]
    }
   ],
   "source": [
    "query = {\n",
    "  \"eo:cloud_cover\": {\n",
    "    \"lt\": 10\n",
    "  },\n",
    "  \"collection\": {\n",
    "    \"eq\": \"landsat-8-l1\"\n",
    "  }\n",
    "}\n",
    "\n",
    "search = Search(query=query)\n",
    "print('%s items found' % search.found())\n",
    "\n",
    "search = Search.search(property=[\"eo:cloud_cover<10\", \"collection=landsat-8-l1\"])\n",
    "print('%s items found' % search.found())\n",
    "\n",
    "# or use collection shortcut\n",
    "search = Search.search(collection='landsat-8-l1', property=[\"eo:cloud_cover<10\"])\n",
    "print('%s items found' % search.found())"
   ]
  },
  {
   "cell_type": "markdown",
   "metadata": {},
   "source": [
    "## Fetching results\n",
    "\n",
    "The examples above use the Search::found() function, but this only returns the total number of hits by performing a fast query with limit=0 (returns no items). To fetch the actual Items use the `Search::items()` function. This returns a sat-stac `Items` object."
   ]
  },
  {
   "cell_type": "code",
   "execution_count": 6,
   "metadata": {},
   "outputs": [
    {
     "name": "stdout",
     "output_type": "stream",
     "text": [
      "6 items\n",
      "6 items\n",
      "2 collections\n",
      "[sentinel-2-l1c, landsat-8-l1]\n",
      "LC80340332018034LGN00\n",
      "LC80340322018034LGN00\n",
      "S2A_12SWJ_20180202_0\n",
      "S2A_12SXJ_20180202_0\n",
      "S2A_12TWK_20180202_0\n",
      "S2A_12TXK_20180202_0\n"
     ]
    }
   ],
   "source": [
    "search = Search(bbox=[-110, 39.5, -105, 40.5],\n",
    "               datetime='2018-02-01/2018-02-04',\n",
    "               property=[\"eo:cloud_cover<5\"])\n",
    "print('%s items' % search.found())\n",
    "\n",
    "items = search.items()\n",
    "print('%s items' % len(items))\n",
    "print('%s collections' % len(items._collections))\n",
    "print(items._collections)\n",
    "\n",
    "for item in items:\n",
    "    print(item)"
   ]
  },
  {
   "cell_type": "markdown",
   "metadata": {},
   "source": [
    "The returned `Items` object has several useful functions and is covered in detail in the [sat-stac STAC classes tutorial](https://github.com/sat-utils/sat-stac/blob/master/tutorial-2.ipynb). The `Items` object contains all the returned Items (`Items._items`), along with any Collection references by those Items (`Items._collections`), and the search parameters used (`Items._search`) Below are some examples."
   ]
  },
  {
   "cell_type": "code",
   "execution_count": 7,
   "metadata": {},
   "outputs": [
    {
     "name": "stdout",
     "output_type": "stream",
     "text": [
      "Items (6):\n",
      "date                      id                        \n",
      "2018-02-03                LC80340332018034LGN00     \n",
      "2018-02-03                LC80340322018034LGN00     \n",
      "2018-02-02                S2A_12SWJ_20180202_0      \n",
      "2018-02-02                S2A_12SXJ_20180202_0      \n",
      "2018-02-02                S2A_12TWK_20180202_0      \n",
      "2018-02-02                S2A_12TXK_20180202_0      \n",
      "\n"
     ]
    }
   ],
   "source": [
    "print(items.summary())"
   ]
  },
  {
   "cell_type": "code",
   "execution_count": 8,
   "metadata": {},
   "outputs": [
    {
     "name": "stdout",
     "output_type": "stream",
     "text": [
      "Items (6):\n",
      "date                      id                        eo:cloud_cover            \n",
      "2018-02-03                LC80340332018034LGN00     36                        \n",
      "2018-02-03                LC80340322018034LGN00     64                        \n",
      "2018-02-02                S2A_12SWJ_20180202_0      18.46                     \n",
      "2018-02-02                S2A_12SXJ_20180202_0      5.74                      \n",
      "2018-02-02                S2A_12TWK_20180202_0      32.94                     \n",
      "2018-02-02                S2A_12TXK_20180202_0      2.73                      \n",
      "\n"
     ]
    }
   ],
   "source": [
    "from satstac import Items\n",
    "\n",
    "items.save('test.json')\n",
    "items2 = Items.load('test.json')\n",
    "\n",
    "print(items2.summary(['date', 'id', 'eo:cloud_cover']))"
   ]
  },
  {
   "cell_type": "code",
   "execution_count": 9,
   "metadata": {},
   "outputs": [
    {
     "name": "stderr",
     "output_type": "stream",
     "text": [
      "WARNING:root:No such asset (MTL)\n",
      "WARNING:root:No such asset (MTL)\n",
      "WARNING:root:No such asset (MTL)\n",
      "WARNING:root:No such asset (MTL)\n"
     ]
    },
    {
     "name": "stdout",
     "output_type": "stream",
     "text": [
      "['downloads/2018-02-03/LC80340332018034LGN00_MTL.txt', 'downloads/2018-02-03/LC80340322018034LGN00_MTL.txt']\n"
     ]
    }
   ],
   "source": [
    "# download a specific asset from all items and put in a directory by date in 'downloads'\n",
    "filenames = items.download('MTL', path='downloads/${date}')\n",
    "print(filenames)"
   ]
  },
  {
   "cell_type": "markdown",
   "metadata": {},
   "source": [
    "## Fetching specific IDs\n",
    "\n",
    "The STAC API doesn't provide for searching by IDs because they can referenced directly within their collection (e.g., /collections/landsat-8-l1/items/LC80340332018034LGN00).\n",
    "\n",
    "To simply get an `Items` object from a list of IDs, provide the ids and the collection name to the `Search::items_by_id()` function"
   ]
  },
  {
   "cell_type": "code",
   "execution_count": 10,
   "metadata": {},
   "outputs": [
    {
     "name": "stdout",
     "output_type": "stream",
     "text": [
      "Items (2):\n",
      "date                      id                        \n",
      "2018-02-03                LC80340332018034LGN00     \n",
      "2018-02-03                LC80340322018034LGN00     \n",
      "\n"
     ]
    }
   ],
   "source": [
    "ids = ['LC80340332018034LGN00', 'LC80340322018034LGN00']\n",
    "items = Search.items_by_id(ids, collection='landsat-8-l1')\n",
    "\n",
    "print(items.summary())"
   ]
  },
  {
   "cell_type": "code",
   "execution_count": null,
   "metadata": {},
   "outputs": [],
   "source": []
  }
 ],
 "metadata": {
  "kernelspec": {
   "display_name": "Python3 sat-utils",
   "language": "python",
   "name": "testenv"
  },
  "language_info": {
   "codemirror_mode": {
    "name": "ipython",
    "version": 3
   },
   "file_extension": ".py",
   "mimetype": "text/x-python",
   "name": "python",
   "nbconvert_exporter": "python",
   "pygments_lexer": "ipython3",
   "version": "3.6.1"
  }
 },
 "nbformat": 4,
 "nbformat_minor": 2
}
